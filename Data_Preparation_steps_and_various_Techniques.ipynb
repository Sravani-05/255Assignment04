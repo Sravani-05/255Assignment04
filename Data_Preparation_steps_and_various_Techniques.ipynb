{
  "nbformat": 4,
  "nbformat_minor": 0,
  "metadata": {
    "colab": {
      "provenance": [],
      "private_outputs": true,
      "collapsed_sections": [],
      "authorship_tag": "ABX9TyOBwHZ0O60CftVyE4I/vWIR",
      "include_colab_link": true
    },
    "kernelspec": {
      "name": "python3",
      "display_name": "Python 3"
    },
    "language_info": {
      "name": "python"
    },
    "gpuClass": "standard"
  },
  "cells": [
    {
      "cell_type": "markdown",
      "metadata": {
        "id": "view-in-github",
        "colab_type": "text"
      },
      "source": [
        "<a href=\"https://colab.research.google.com/github/Sravani-05/255Assignment04/blob/main/Data_Preparation_steps_and_various_Techniques.ipynb\" target=\"_parent\"><img src=\"https://colab.research.google.com/assets/colab-badge.svg\" alt=\"Open In Colab\"/></a>"
      ]
    },
    {
      "cell_type": "code",
      "source": [
        "# load packages\n",
        "import numpy as np\n",
        "import seaborn as sns\n",
        "import pandas as pd\n",
        "import matplotlib.pyplot as plt\n",
        "\n",
        "import sklearn\n",
        "from sklearn.decomposition import PCA\n",
        "from sklearn.preprocessing import StandardScaler,QuantileTransformer,RobustScaler,Normalizer,MaxAbsScaler,MinMaxScaler,PowerTransformer\n",
        "from sklearn.datasets import load_wine\n"
      ],
      "metadata": {
        "id": "xspUliDbQeOq"
      },
      "execution_count": null,
      "outputs": []
    },
    {
      "cell_type": "code",
      "source": [
        "data = load_wine()\n",
        "df_features = pd.DataFrame(data.data)\n",
        "df_features.columns = data.feature_names\n",
        "\n",
        "df_target = pd.DataFrame({'target_original':data.target})\n",
        "# create a partial target column\n",
        "df_target['target_small_missinng'] = pd.DataFrame({'target_original':data.target})\n",
        "df_target.loc[df_target.sample(frac=0.06, random_state=123).index, 'target_small_missinng'] = -1\n",
        "df_target['target_large_missinng'] = pd.DataFrame({'target_original':data.target})\n",
        "df_target.loc[df_target.sample(frac=0.6, random_state=123).index, 'target_large_missinng'] = -1\n",
        "df_target['target_all_missinng'] = -1\n",
        "target_order = [0,1,2,-1]\n",
        "df = pd.concat([df_features, df_target], axis=1)"
      ],
      "metadata": {
        "id": "VNJ3Q6cjQiCs"
      },
      "execution_count": null,
      "outputs": []
    },
    {
      "cell_type": "code",
      "source": [
        "df.head()"
      ],
      "metadata": {
        "id": "oTyMks_6QnTe"
      },
      "execution_count": null,
      "outputs": []
    },
    {
      "cell_type": "code",
      "source": [
        "df.describe()"
      ],
      "metadata": {
        "id": "6h7b-ALhQrau"
      },
      "execution_count": null,
      "outputs": []
    },
    {
      "cell_type": "markdown",
      "source": [
        "**EDA**"
      ],
      "metadata": {
        "id": "5pLJjjQ2RIpF"
      }
    },
    {
      "cell_type": "code",
      "source": [
        "customer_palette = sns.color_palette('Set1', 3)\n",
        "customer_palette.append(sns.xkcd_palette(['greyish'])[0])\n",
        "\n",
        "plt.rc('figure', facecolor='w')"
      ],
      "metadata": {
        "id": "CcYVYmvnRurv"
      },
      "execution_count": null,
      "outputs": []
    },
    {
      "cell_type": "code",
      "source": [
        "fig, axes = plt.subplots(nrows=1, ncols=len(df_features.columns), figsize=(len(df_features.columns)*2,4))\n",
        "for index, col in enumerate(df_features.columns):\n",
        "    ax = axes[index]\n",
        "#     plt.subplot(1,len(df_features.columns), index+1)\n",
        "    sns.boxplot(y=df.loc[:,col], x=df.loc[:,'target_original'], palette=customer_palette, ax=ax)\n",
        "    ax.set_ylabel(ax.get_ylabel(), fontsize='x-large')\n",
        "#     ax.set_xlabel(ax.get_xlabel(), fontsize=20)\n",
        "    ax.set_xlabel(\"\")\n",
        "\n",
        "\n",
        "plt.tight_layout(pad=0.5)\n",
        "plt.show()"
      ],
      "metadata": {
        "id": "8vx5g74rRwGs"
      },
      "execution_count": null,
      "outputs": []
    },
    {
      "cell_type": "code",
      "source": [
        "g = sns.pairplot(data=df, vars=df_features.columns, hue='target_large_missinng', \n",
        "                 corner=True, palette=customer_palette, hue_order=target_order)"
      ],
      "metadata": {
        "id": "Th9BeUrBSwWe"
      },
      "execution_count": null,
      "outputs": []
    },
    {
      "cell_type": "markdown",
      "source": [
        "**Comparing Different Scalars**"
      ],
      "metadata": {
        "id": "N0WJeIkCS60J"
      }
    },
    {
      "cell_type": "code",
      "source": [
        "def transformer_bundle(X_train, is_full_compare=True, is_get_instance=False):\n",
        "    if is_full_compare:\n",
        "        transformer_dict = {'StandardScaler': StandardScaler(), \n",
        "                            'QuantileTransformer':QuantileTransformer(), \n",
        "                            'RobustScaler':RobustScaler(), \n",
        "                            'Normalizer':Normalizer(), \n",
        "                            'MaxAbsScaler':MaxAbsScaler(), \n",
        "                            'MinMaxScaler':MinMaxScaler(), \n",
        "                            'PowerTransformer':PowerTransformer()}\n",
        "    else:\n",
        "        transformer_dict = {'StandardScaler': StandardScaler(), \n",
        "                            'QuantileTransformer':QuantileTransformer(), \n",
        "                            'PowerTransformer':PowerTransformer()}\n",
        "    \n",
        "    X_train_trans_dict = {trs:transformer_dict[trs].fit_transform(X_train) for trs in transformer_dict.keys()} \n",
        "    X_train_trans_dict['NoTransformer'] = X_train.values\n",
        "    \n",
        "    X_train_pca_dict = {trs:PCA().fit_transform(X_train_trans_dict[trs]) for trs in transformer_dict.keys()}\n",
        "    X_train_pca_dict['NoTransformer'] = PCA().fit_transform(X_train)\n",
        "    \n",
        "    instance_pca_dict = {trs:PCA().fit(X_train_trans_dict[trs]) for trs in transformer_dict.keys()}\n",
        "    instance_pca_dict['NoTransformer'] = PCA().fit(X_train)\n",
        "    \n",
        "    if not is_get_instance:\n",
        "        return X_train_trans_dict, X_train_pca_dict\n",
        "    else:\n",
        "        return X_train_trans_dict, X_train_pca_dict, instance_pca_dict"
      ],
      "metadata": {
        "id": "zs4ZIQQUTAdU"
      },
      "execution_count": null,
      "outputs": []
    },
    {
      "cell_type": "code",
      "source": [
        "X_train = df_features.copy()\n",
        "y_train = df_target\n",
        "\n",
        "X_trans_dict, X_pca_dict,instance_pca_dict = transformer_bundle(X_train,is_get_instance=True)"
      ],
      "metadata": {
        "id": "9-v12vNbTE73"
      },
      "execution_count": null,
      "outputs": []
    },
    {
      "cell_type": "code",
      "source": [
        "def pca_scatter_plot(X_pca_dict, y, highlight_list=None):\n",
        "    y = np.array(y)\n",
        "    labels=['\\nlabel few missing', '\\nlabel half missing', '\\nlabel all missing']\n",
        "#     fig = plt.figure(figsize=(4*3,3*8), )\n",
        "#     G = plt.GridSpec(nrows=len(X_pca_dict.keys()), ncols=3)\n",
        "    fig, axes = plt.subplots(nrows=len(X_pca_dict.keys()), ncols=3, figsize=(4*3,3*len(X_pca_dict.keys())), sharey='row')\n",
        "    for i in range(len(X_pca_dict.keys())):\n",
        "        # the fancy modulo is just to make the \"no transformation\" come first...\n",
        "        ind = (i-1)%len(X_pca_dict)\n",
        "        trs = list(X_pca_dict.keys())[ind]\n",
        "        X = X_pca_dict[trs]\n",
        "        \n",
        "        # if there are some dots to be highlighted..        \n",
        "        if highlight_list is not None:\n",
        "            style_list = np.array(['original']*X.shape[0])\n",
        "            style_list[highlight_list] = 'syn_oli'\n",
        "        else:\n",
        "            style_list=None\n",
        "            \n",
        "        for j in range(3):\n",
        "#             this_ax = fig.add_subplot(G[i, j], sharey='row')\n",
        "            this_ax = axes[i,j]\n",
        "            # plot the first 2 components\n",
        "            sns.scatterplot(data=None, x=X[:,0], y=X[:,1], \n",
        "                            hue=y[:,j], hue_order=[0,1,2,-1], \n",
        "                            style=style_list, \n",
        "                            alpha=0.6, palette=customer_palette, ax=this_ax)\n",
        "            \n",
        "            \n",
        "            # set axis labels and title\n",
        "            this_ax.set_xlabel('First component')\n",
        "            this_ax.set_ylabel('Second component')\n",
        "            this_ax.set_title(trs+labels[j], loc='left', fontsize='large')\n",
        "            this_ax.legend(loc=2)\n",
        "    plt.tight_layout(pad=0.5, )\n",
        "    plt.show()"
      ],
      "metadata": {
        "id": "QkUePUmlTRYg"
      },
      "execution_count": null,
      "outputs": []
    },
    {
      "cell_type": "code",
      "source": [
        "pca_scatter_plot(X_pca_dict, y_train.iloc[:,1:])"
      ],
      "metadata": {
        "id": "Xp01DyKgTnXy"
      },
      "execution_count": null,
      "outputs": []
    },
    {
      "cell_type": "code",
      "source": [
        "def pca_box_plot(X_pca_dict, y):\n",
        "    y = np.array(y)\n",
        "    ncols = list(X_pca_dict.values())[0].shape[1]\n",
        "    nrows=len(X_pca_dict)\n",
        "    \n",
        "    fig,ax = plt.subplots(nrows=nrows, ncols=ncols, sharey='row', figsize=(2*ncols,4*nrows))\n",
        "    for i in range(len(X_pca_dict.keys())):\n",
        "        ind = (i-1)%len(X_pca_dict)\n",
        "        trs = list(X_pca_dict.keys())[ind]\n",
        "        X = X_pca_dict[trs]\n",
        "        \n",
        "        for j in range(ncols):\n",
        "            this_ax = ax[i,j]\n",
        "            sns.boxplot(y=X[:,j], x=y, palette=customer_palette, ax=this_ax)\n",
        "            this_ax.set_ylabel('Component No.%d' % j)\n",
        "            if j == 0:\n",
        "                this_ax.set_title(trs, loc='left', fontsize='x-large')                \n",
        "\n",
        "    plt.tight_layout(0.5)   \n",
        "    plt.show()\n",
        "    "
      ],
      "metadata": {
        "id": "I0JzDixQTsO1"
      },
      "execution_count": null,
      "outputs": []
    },
    {
      "cell_type": "code",
      "source": [
        "pca_box_plot(X_pca_dict, df_target.loc[:,'target_original'])"
      ],
      "metadata": {
        "id": "vMHtFl3ST0G7"
      },
      "execution_count": null,
      "outputs": []
    },
    {
      "cell_type": "code",
      "source": [
        "def trans_heat_plot_abs(X_trans_dict, y_axis_labels):\n",
        "    fig,ax = plt.subplots(nrows=len(X_trans_dict.keys()), ncols=1, sharey=True, figsize=(6,3*len(X_trans_dict.keys())))\n",
        "    for i in range(len(X_trans_dict.keys())):\n",
        "        ind = (i-1)%len(X_trans_dict)\n",
        "        trs = list(X_trans_dict.keys())[ind]\n",
        "        X = X_trans_dict[trs]\n",
        "        y_axis_labels = df_features.columns  \n",
        "        this_ax = ax[i]\n",
        "        covmtrx = (np.cov(X.T))\n",
        "        mask = np.triu(covmtrx,1)\n",
        "        sns.heatmap(covmtrx, \n",
        "                    square=True,\n",
        "                    mask = mask,\n",
        "                    yticklabels=y_axis_labels,\n",
        "                    center= 0,\n",
        "                    cmap=(sns.color_palette('RdBu_r',256)), #, 10\n",
        "                    ax=this_ax,\n",
        "           )\n",
        "        this_ax.set_title(trs+str('(cov matrix)'),loc='left', fontsize='x-large')\n",
        "        this_ax.set_xticklabels(this_ax.get_xticklabels(), rotation=0)\n",
        "        \n",
        "    plt.tight_layout()        \n",
        "    plt.show()"
      ],
      "metadata": {
        "id": "wcGHced_T4HD"
      },
      "execution_count": null,
      "outputs": []
    },
    {
      "cell_type": "code",
      "source": [
        "trans_heat_plot_abs(X_trans_dict, y_axis_labels=df_features.columns)"
      ],
      "metadata": {
        "id": "ynO18_W-T7aL"
      },
      "execution_count": null,
      "outputs": []
    },
    {
      "cell_type": "code",
      "source": [
        "\n",
        "\n",
        "def pca_plot_cumsum(instance_pca_dict):\n",
        "\n",
        "\n",
        "    trans_list_tmp = list(instance_pca_dict.keys())[-1:]+ list(instance_pca_dict.keys())[:-1]\n",
        "    cumsum_list = [np.concatenate([[0],instance_pca_dict[trans].explained_variance_ratio_.cumsum()]) for trans in trans_list_tmp]\n",
        "    \n",
        "    df_cumsum = pd.DataFrame(np.array(cumsum_list).T)\n",
        "    df_cumsum.columns = trans_list_tmp\n",
        "\n",
        "    fig, ax = plt.subplots(1,1,figsize=(12,6), sharex=True, sharey=True)\n",
        "    \n",
        "    df_cumsum.plot(ax=ax, color=sns.color_palette('Accent'), kind='line', marker='o')\n",
        "    ax.grid()\n",
        "    ax.legend(loc='lower right')\n",
        "    ax.set_ylabel('explained_variance_cumsum')\n",
        "    ax.set_xlabel('PCA components')\n",
        "    ax.set_xlim([0,len(cumsum_list[0])-0.5])\n",
        "    ax.set_ylim([0,1.05])\n",
        "    plt.show()\n",
        "    "
      ],
      "metadata": {
        "id": "HuHPX26ET94R"
      },
      "execution_count": null,
      "outputs": []
    },
    {
      "cell_type": "code",
      "source": [
        "pca_plot_cumsum(instance_pca_dict)"
      ],
      "metadata": {
        "id": "SKtEibHfUFgS"
      },
      "execution_count": null,
      "outputs": []
    },
    {
      "cell_type": "markdown",
      "source": [
        "**Performing Clustering to test differnet Scaling**"
      ],
      "metadata": {
        "id": "J4nDLkQQXebZ"
      }
    },
    {
      "cell_type": "code",
      "source": [
        "from sklearn.cluster import KMeans\n",
        "from sklearn.metrics import adjusted_rand_score, v_measure_score\n",
        "\n",
        "kmeans = KMeans(n_clusters=3, random_state=123)\n",
        "scores0,scores1,scores2 = [],[],[]\n",
        "for trs in X_pca_dict.keys():\n",
        "    X_trs = X_trans_dict[trs]\n",
        "    X_PCA = X_pca_dict[trs]\n",
        "        \n",
        "    pred0 = kmeans.fit_predict(X_trs[:,-2:]) # we took the last two features because visually these two have shown the pattern rather clearly (cf the pairplot)\n",
        "    scores0.append(v_measure_score(labels_true=y_train.target_original.values, labels_pred=pred0))\n",
        "    pred1 = kmeans.fit_predict(X_PCA[:,:2])\n",
        "    scores1.append(v_measure_score(labels_true=y_train.target_original.values, labels_pred=pred1))\n",
        "    pred2 = kmeans.fit_predict(X_PCA)\n",
        "    scores2.append(v_measure_score(labels_true=y_train.target_original.values, labels_pred=pred2))\n",
        "    \n",
        "df_scores = pd.DataFrame(np.array([scores0, scores1, scores2]).T, \n",
        "                         columns=['orig_2Features', 'PCA_2Features', 'allFeatures'],\n",
        "                         index=X_pca_dict.keys()\n",
        "                         )"
      ],
      "metadata": {
        "id": "gbZyBYRQXoZi"
      },
      "execution_count": null,
      "outputs": []
    },
    {
      "cell_type": "code",
      "source": [
        "df_scores"
      ],
      "metadata": {
        "id": "nZnDybQzXs2H"
      },
      "execution_count": null,
      "outputs": []
    },
    {
      "cell_type": "code",
      "source": [
        "def pca_cluster_contour_plot(X_pca_dict, labels, kmeans):\n",
        "    fig, axes = plt.subplots(nrows=len(X_pca_dict.keys()), ncols=1,figsize=(8*1,6*len(X_pca_dict.keys())))\n",
        "    for i in range(len(X_pca_dict.keys())):\n",
        "\n",
        "        ind = (i-1)%len(X_pca_dict)\n",
        "        trs = list(X_pca_dict.keys())[ind]\n",
        "        X = X_pca_dict[trs]\n",
        "\n",
        "        pred = kmeans.fit_predict(X[:,:2])    \n",
        "        \n",
        "\n",
        "        df_tmp = pd.concat([pd.DataFrame(X), labels.target_original, pd.DataFrame({'pred':pred})],axis = 1)\n",
        "        df_tmp['pred'] = np.choose(pred,\n",
        "                                   [df_tmp[df_tmp.pred==0].target_original.mode().values,\n",
        "                                    df_tmp[df_tmp.pred==1].target_original.mode().values,\n",
        "                                    df_tmp[df_tmp.pred==2].target_original.mode().values]).astype(np.int64)        \n",
        "\n",
        "        ax = axes[i]\n",
        "        for i in range(3):\n",
        "            sns.kdeplot(data=df_tmp.iloc[:,0][df_tmp.pred==i], data2=df_tmp.iloc[:,1][df_tmp.pred==i],\n",
        "                        shade=True,\n",
        "                        color=sns.color_palette('Set1', desat=0.5)[i],\n",
        "                        shade_lowest=False,\n",
        "                        label='pred_'+str(i),\n",
        "                        alpha=0.5,\n",
        "                        ax=ax)\n",
        "                   \n",
        "        sns.scatterplot(x=df_tmp[df_tmp.target_original!=df_tmp.pred].iloc[:,0], \n",
        "                        y=df_tmp[df_tmp.target_original!=df_tmp.pred].iloc[:,1], \n",
        "                        color = 'orange',\n",
        "                        marker= 'X',\n",
        "                        s=150,\n",
        "                        ax=ax, label='mismatch')\n",
        "\n",
        "        sns.scatterplot(data=df_tmp, x=df_tmp.columns[0], y=df_tmp.columns[1], hue='target_original', palette='Set1',ax=ax, )\n",
        "        ax.set_title(trs+'\\nmismatch: {} (out of {})'.format(len(df_tmp[df_tmp.target_original!=df_tmp.pred]), len(df_tmp)),\n",
        "                     loc='left', fontsize='x-large')\n",
        "        ax.set_xlabel(\"1st PCA component\")\n",
        "        ax.set_ylabel(\"2nd PCA component\")\n",
        "        ax.legend(bbox_to_anchor=(1.01, 1.0), loc='upper left')\n",
        "    plt.tight_layout()\n",
        "    plt.show()"
      ],
      "metadata": {
        "id": "1xe_1q88Xwhw"
      },
      "execution_count": null,
      "outputs": []
    },
    {
      "cell_type": "code",
      "source": [
        "kmeans = KMeans(n_clusters=3, random_state=123)\n",
        "\n",
        "pca_cluster_contour_plot(X_pca_dict,y_train, kmeans)"
      ],
      "metadata": {
        "id": "ijeS_AzmX0IE"
      },
      "execution_count": null,
      "outputs": []
    },
    {
      "cell_type": "code",
      "source": [],
      "metadata": {
        "id": "G2I2UYMyX53-"
      },
      "execution_count": null,
      "outputs": []
    }
  ]
}